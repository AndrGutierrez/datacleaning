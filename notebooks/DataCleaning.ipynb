{
 "cells": [
  {
   "cell_type": "code",
   "id": "initial_id",
   "metadata": {
    "collapsed": true,
    "ExecuteTime": {
     "end_time": "2024-04-21T23:14:19.605788Z",
     "start_time": "2024-04-21T23:14:18.503083Z"
    }
   },
   "source": "import pandas as pd",
   "outputs": [],
   "execution_count": 1
  },
  {
   "metadata": {
    "ExecuteTime": {
     "end_time": "2024-04-11T18:12:05.715333Z",
     "start_time": "2024-04-11T18:12:05.706450Z"
    }
   },
   "cell_type": "code",
   "source": "",
   "id": "1a8a1a3b2ed043dd",
   "outputs": [
    {
     "name": "stdout",
     "output_type": "stream",
     "text": [
      "a\n"
     ]
    }
   ],
   "execution_count": 2
  },
  {
   "metadata": {
    "ExecuteTime": {
     "end_time": "2024-04-21T23:53:32.562224Z",
     "start_time": "2024-04-21T23:53:08.163877Z"
    }
   },
   "cell_type": "code",
   "source": [
    "\n",
    "import pandas as pd\n",
    "# Load your dataset\n",
    "\n",
    "# Calculate frequencies for corrected_occupation_1\n",
    "\n",
    "file_path = '../data/data_nomatch_edit_test_V3.csv'\n",
    "df = pd.read_csv(file_path, nrows=5000000)\n",
    "def get_frequency(column):\n",
    "    freq = df[column].value_counts().reset_index()\n",
    "    freq.columns = ['Occupation', 'Frequency']\n",
    "    return freq\n",
    "\n",
    "\n",
    "# print(\"Corrected occupation 1 frequencies saved to '/Users/stellanguyen/Documents/corrected_occupation_1_frequencies_apri5.csv'\")\n",
    "# print(\"Corrected occupation 2 frequencies saved to '/Users/stellanguyen/Documents/corrected_occupation_2_frequencies_april5.csv'\")"
   ],
   "id": "2ff55fed41d1d546",
   "outputs": [
    {
     "name": "stderr",
     "output_type": "stream",
     "text": [
      "/tmp/ipykernel_9632/489064016.py:7: DtypeWarning: Columns (12,28) have mixed types. Specify dtype option on import or set low_memory=False.\n",
      "  df = pd.read_csv(file_path, nrows=5000000)\n"
     ]
    }
   ],
   "execution_count": 1
  },
  {
   "metadata": {
    "ExecuteTime": {
     "end_time": "2024-04-22T00:28:34.371011Z",
     "start_time": "2024-04-22T00:28:34.088653Z"
    }
   },
   "cell_type": "code",
   "source": [
    "corrected_occupation_1_freq=get_frequency(\"corrected_occupation_2\")\n",
    "\n",
    "# (corrected_occupation_1_freq[\"Occupation\"].str.findall(r\"\\w* \\w*\")).drop_duplicates()S\n",
    "(corrected_occupation_1_freq[\"Occupation\"].str.findall(r\"\\w*\")).drop_duplicates()\n"
   ],
   "id": "943f2ee940f4dd5e",
   "outputs": [
    {
     "data": {
      "text/plain": [
       "0         [NO, , MATCH, ]\n",
       "1      [meat, , market, ]\n",
       "2            [merchant, ]\n",
       "3             [washing, ]\n",
       "4       [boardinghouse, ]\n",
       "              ...        \n",
       "350            [vender, ]\n",
       "351            [tanner, ]\n",
       "352       [electrician, ]\n",
       "353         [clothiers, ]\n",
       "354           [stainer, ]\n",
       "Name: Occupation, Length: 355, dtype: object"
      ]
     },
     "execution_count": 10,
     "metadata": {},
     "output_type": "execute_result"
    }
   ],
   "execution_count": 10
  },
  {
   "metadata": {},
   "cell_type": "code",
   "outputs": [],
   "execution_count": null,
   "source": "",
   "id": "16444b60f9ff542f"
  }
 ],
 "metadata": {
  "kernelspec": {
   "display_name": "Python 3",
   "language": "python",
   "name": "python3"
  },
  "language_info": {
   "codemirror_mode": {
    "name": "ipython",
    "version": 2
   },
   "file_extension": ".py",
   "mimetype": "text/x-python",
   "name": "python",
   "nbconvert_exporter": "python",
   "pygments_lexer": "ipython2",
   "version": "2.7.6"
  }
 },
 "nbformat": 4,
 "nbformat_minor": 5
}
